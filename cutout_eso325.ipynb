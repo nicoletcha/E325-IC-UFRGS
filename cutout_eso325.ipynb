{
 "cells": [
  {
   "cell_type": "markdown",
   "metadata": {},
   "source": [
    "Author: Nicole Mazzitelli Narvaz\n",
    "\n",
    "Date: 10/27/2021\n",
    "\n",
    "Obj: Cut the original datacube of ESO325 around the central galaxy.\n",
    "     Cortar o cubo de dados original da ESO325 ao redor da galáxia central.\n",
    "     \n",
    "     Due the presence of telluric lines, we apply ZAP (the Zurich Atmosphere Purge) software to improve the sky subtracted. So, the data cube read bellow is a ZAPed date cube."
   ]
  },
  {
   "cell_type": "code",
   "execution_count": 1,
   "metadata": {},
   "outputs": [],
   "source": [
    "from mpdaf.obj import Cube\n",
    "from mpdaf.obj import deg2sexa, sexa2deg\n",
    "import astropy.units as u\n",
    "import matplotlib.pyplot as plt"
   ]
  },
  {
   "cell_type": "markdown",
   "metadata": {},
   "source": [
    "Opening the original data cube.\n",
    "Abrindo o cubo original de dados."
   ]
  },
  {
   "cell_type": "code",
   "execution_count": 2,
   "metadata": {},
   "outputs": [
    {
     "name": "stderr",
     "output_type": "stream",
     "text": [
      "WARNING: UnitsWarning: '1e-20 erg/s/cm  2/Angstrom' contains multiple slashes, which is discouraged by the FITS standard [astropy.units.format.generic]\n"
     ]
    }
   ],
   "source": [
    "cube = Cube('/home/nicole/eso325/eso325_cube.fits')"
   ]
  },
  {
   "cell_type": "markdown",
   "metadata": {},
   "source": [
    "Defining the center around where the cut will be made.\n",
    "\n",
    "Definindo o centro ao redor de onde será feito o corte."
   ]
  },
  {
   "cell_type": "code",
   "execution_count": 3,
   "metadata": {},
   "outputs": [],
   "source": [
    "#center_deg = ['0.6518871','135.7984080'] #Format is (DEC,RA). Units in degree\n",
    "center_px = [232,276]                    #Direct from Header. Format (y,x) in px value\n",
    "\n",
    "#center_sex = deg2sexa(center_deg)              #Convert (DEC,RA) to degree/Convertendo (DEC,RA) para graus\n",
    "#print(center_sex) "
   ]
  },
  {
   "cell_type": "markdown",
   "metadata": {},
   "source": [
    "### Making a square cut around the center defined above. ###\n",
    "\n",
    "**center**: Defines the center for the cut.\n",
    "\n",
    "**unit_center**: Defines the units of the center. In astropy units. If **None**, the unit is pixel.\n",
    "\n",
    "**size**: Defines the  length square.\n",
    "\n",
    "**unit_size**: Defines the units of size. In astropy units. If **None**, the unit is pixel.\n",
    "\n",
    "**lbda**: Defines the wavelength range for extraction.\n",
    "\n",
    "**unit_wave**: Defines the units of wavelength. In astropy units.\n",
    "\n",
    "### Realizando o corte quadrado ao redor do centro definido acima.\n",
    "\n",
    "**center**: Define o centro para para o corte.\n",
    "\n",
    "**unit_center**: Define as unidades do centro, em unidades Astropy. Se for **None**, a unidade é pixel.\n",
    "\n",
    "**size**: Define o comprimento do lado do quadrado.\n",
    "\n",
    "**unit_size**: Define as unidades para o lado, em unidades Astropy. Se **None**, então a unidade é pixel.\n",
    "\n",
    "**lbda**: Define o range para extração de comprimento de onda.\n",
    "\n",
    "**unit_wave**: Define a unidade para o comprimento de onda, em unidades Astropy."
   ]
  },
  {
   "cell_type": "code",
   "execution_count": 10,
   "metadata": {},
   "outputs": [],
   "source": [
    "corte = cube.subcube(center=center_px, size=(90,75), unit_center=None, unit_size=None, unit_wave=u.angstrom)"
   ]
  },
  {
   "cell_type": "code",
   "execution_count": 11,
   "metadata": {},
   "outputs": [],
   "source": [
    "corte.write('/home/nicole/eso325/cutout_eso325cube.fits')#Save the fits file/Save o arquivo .fits"
   ]
  },
  {
   "cell_type": "markdown",
   "metadata": {},
   "source": [
    "Display informations about the cut and make a image.\n",
    "\n",
    "Apresentra informações do corte e cria uma imagem."
   ]
  },
  {
   "cell_type": "code",
   "execution_count": 12,
   "metadata": {},
   "outputs": [
    {
     "name": "stderr",
     "output_type": "stream",
     "text": [
      "[INFO] 3682 x 75 x 90 Cube (/home/nicole/eso325/cutout_eso325cube.fits)\n",
      "[INFO] .data(3682 x 75 x 90) (1e-20 erg / (Angstrom cm2 s)), .var(3682 x 75 x 90)\n",
      "[INFO] center:(-38:10:35.41692285,13:43:33.29079452) size:(15.000\",18.000\") step:(0.200\",0.200\") rot:-0.0 deg frame:FK5\n",
      "[INFO] wavelength: min:4750.17 max:9351.42 step:1.25 Angstrom\n",
      "/tmp/ipykernel_5377/80105395.py:4: MatplotlibDeprecationWarning: savefig() got unexpected keyword argument \"fmt\" which is no longer supported as of 3.3 and will become an error two minor releases later\n",
      "  plt.savefig('/home/nicole/eso325/cutout_eso325.png', fmt='png') #Save the Image/Sava a image\n"
     ]
    },
    {
     "data": {
      "image/png": "[encoded data removed]",
      "text/plain": [
       "<Figure size 432x288 with 2 Axes>"
      ]
     },
     "metadata": {
      "needs_background": "light"
     },
     "output_type": "display_data"
    }
   ],
   "source": [
    "corte.info() #Display information/Apresenta informações\n",
    "image = corte.sum(axis=0) #Make a image sum along the z axis/Faz uma imagem ao somar ao longo do eixo z\n",
    "image.plot(use_wcs=True, cmap='hot',zscale=True, colorbar='v') #Plot image/Plota a imagem\n",
    "plt.savefig('/home/nicole/eso325/cutout_eso325.png', fmt='png') #Save the Image/Sava a image"
   ]
  },
  {
   "cell_type": "code",
   "execution_count": 9,
   "metadata": {},
   "outputs": [],
   "source": [
    "#Now we need a image with the same wavelength range, but bigger, for compute the PSF\n",
    "img = cube.subcube(center=center_px, size=50, lbda=(4800,8000), unit_center=None, unit_size=u.arcsec, unit_wave=u.angstrom)"
   ]
  }
 ],
 "metadata": {
  "kernelspec": {
   "display_name": "Python 3 (ipykernel)",
   "language": "python",
   "name": "python3"
  },
  "language_info": {
   "codemirror_mode": {
    "name": "ipython",
    "version": 3
   },
   "file_extension": ".py",
   "mimetype": "text/x-python",
   "name": "python",
   "nbconvert_exporter": "python",
   "pygments_lexer": "ipython3",
   "version": "3.8.10"
  }
 },
 "nbformat": 4,
 "nbformat_minor": 2
}
