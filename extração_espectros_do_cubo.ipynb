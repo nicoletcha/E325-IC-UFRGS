{
 "cells": [
  {
   "cell_type": "markdown",
   "id": "3a7f74a3",
   "metadata": {},
   "source": [
    "Autor: Nicole Mazzitelli Narvaz\n",
    "Data: 28/01/2022\n",
    "Objetivo: Extrair espectros do cubo já cortado, pixel por pixel  "
   ]
  },
  {
   "cell_type": "code",
   "execution_count": 4,
   "id": "deddde04",
   "metadata": {},
   "outputs": [],
   "source": [
    "from mpdaf.obj import Cube\n",
    "from mpdaf.obj import deg2sexa, sexa2deg\n",
    "import astropy.units as u"
   ]
  },
  {
   "cell_type": "markdown",
   "id": "d7e1ded5",
   "metadata": {},
   "source": [
    "Abrindo o cubo de dados já cortado e plotando a imagem.\n",
    "Exibindo também as informações do cubo.\n",
    "\n",
    "0,200\" arc em cada pixel\n",
    "y --> 15/0,2 = 90\n",
    "x --> 18/0,2 = 90\n",
    "z --> comprimento de onda lambda = 3682"
   ]
  },
  {
   "cell_type": "code",
   "execution_count": 5,
   "id": "14cffb14",
   "metadata": {},
   "outputs": [
    {
     "name": "stderr",
     "output_type": "stream",
     "text": [
      "[INFO] 3682 x 75 x 90 Cube (/home/nicole/eso325/cutout_cube/cutout_eso325cube.fits)\n",
      "[INFO] .data(3682 x 75 x 90) (1e-20 erg / (Angstrom cm2 s)), .var(3682 x 75 x 90)\n",
      "[INFO] center:(-38:10:35.41692285,13:43:33.29079452) size:(15.000\",18.000\") step:(0.200\",0.200\") rot:-0.0 deg frame:FK5\n",
      "[INFO] wavelength: min:4750.17 max:9351.42 step:1.25 Angstrom\n"
     ]
    },
    {
     "data": {
      "text/plain": [
       "<matplotlib.image.AxesImage at 0x7f5c76edef10>"
      ]
     },
     "execution_count": 5,
     "metadata": {},
     "output_type": "execute_result"
    },
    {
     "data": {
      "image/png": "[encoded data removed]",
      "text/plain": [
       "<Figure size 432x288 with 1 Axes>"
      ]
     },
     "metadata": {
      "needs_background": "light"
     },
     "output_type": "display_data"
    }
   ],
   "source": [
    "cube = Cube('/home/nicole/eso325/cutout_cube/cutout_eso325cube.fits')\n",
    "cube.info()\n",
    "image = cube.sum(axis=0)\n",
    "image.plot(use_wcs=True)"
   ]
  },
  {
   "cell_type": "markdown",
   "id": "23f7ea95",
   "metadata": {},
   "source": [
    "Aqui, ao invés de criar um novo cubo binado, vamos extrair apenas os espectros que seriam obtidos do cubo binnado. A estratégia é: como queremos binnar em 0.6arcsec/px e temos 0.2arcsec/px do cubo original, precisamos somar a contribuição de 3px X 3px (0.6/0.2). Por esse motivo, nosso contador é incrementado de 3 em 3. Temos dois loops. Para cada valor de y, binnados todos os valores em x. Então saímos do loop em x, atualizamos y em 3, zeramos o contador de x e repitimos as iterações. Isso ocorre até percorremos todo o grid de pixels. O método de extração funciona da seguinte forma: A cada iteração é como se extraíssimos um subcubo de tamanho espacial 3X3. Feito isso, extríamos o espectro somando a contribuição dos nove pixels que formam esse subcubo. O método é a soma pois estamos querendo aumentar a razão sinal ruído.\n",
    "\n",
    "x_px: é o posição x do pixel i.\n",
    "\n",
    "y_px: é a posição y do pixel i.\n",
    "\n",
    "x,y: são contadores.\n",
    "\n",
    "Cada espectro binnado será salvo com o nome y_px X x_px.fits, que indica a posição do espectro neste novo grid binnado com 0.6''. "
   ]
  },
  {
   "cell_type": "code",
   "execution_count": 6,
   "id": "e6e76717",
   "metadata": {},
   "outputs": [],
   "source": [
    "x =0\n",
    "y = 0\n",
    "x_px = 0\n",
    "y_px = 0\n",
    "while y < 75:\n",
    "    while x < 90:\n",
    "        sub_cub = cube[:,0+y:1+y,0+x:1+x]\n",
    "        spc = sub_cub.sum(axis=(1,2))\n",
    "        spc.write('/home/nicole/eso325/espectros/%dx%d.fits'%(y_px,x_px))\n",
    "        x_px = x_px + 1\n",
    "        x = x +1\n",
    "        \n",
    "    y = y + 1\n",
    "    x = 0\n",
    "    x_px = 0\n",
    "    y_px = y_px + 1"
   ]
  },
  {
   "cell_type": "markdown",
   "id": "b2140b26",
   "metadata": {},
   "source": [
    "Abrindo o cubo, previamente cortado, no QFitsView vamos encontrar o pixel mais visível. Tendo então, neste ponto: (44,37), diminuindo -1 temos o espectro 36x43. "
   ]
  }
 ],
 "metadata": {
  "kernelspec": {
   "display_name": "Python 3 (ipykernel)",
   "language": "python",
   "name": "python3"
  },
  "language_info": {
   "codemirror_mode": {
    "name": "ipython",
    "version": 3
   },
   "file_extension": ".py",
   "mimetype": "text/x-python",
   "name": "python",
   "nbconvert_exporter": "python",
   "pygments_lexer": "ipython3",
   "version": "3.8.10"
  }
 },
 "nbformat": 4,
 "nbformat_minor": 5
}
