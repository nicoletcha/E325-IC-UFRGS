{
 "cells": [
  {
   "cell_type": "markdown",
   "id": "6f66ccb9",
   "metadata": {},
   "source": [
    "Author: Nicole Mazzitelli Narvaz\n",
    "\n",
    "Create a new grid where the value of the pixel correspond to the Vorbin Id."
   ]
  },
  {
   "cell_type": "code",
   "execution_count": 2,
   "id": "58bdac73",
   "metadata": {},
   "outputs": [],
   "source": [
    "from mpdaf.obj import Image, WCS, Cube\n",
    "import numpy as np\n",
    "from astropy import units as u\n",
    "\n",
    "save_folder = \"/home/nicole/eso325/mapas_IdNum/\""
   ]
  },
  {
   "cell_type": "code",
   "execution_count": 8,
   "id": "c87aa753",
   "metadata": {},
   "outputs": [
    {
     "name": "stderr",
     "output_type": "stream",
     "text": [
      "[INFO] 75 x 90 Image (/home/nicole/eso325/mapas_IdNum/image.fits)\n",
      "[INFO] .data(75 x 90) (1e-20 erg / (Angstrom cm2 s)), no noise\n",
      "[INFO] center:(-38:10:35.41692285,13:43:33.29079452) size:(15.000\",18.000\") step:(0.200\",0.200\") rot:-0.0 deg frame:FK5\n"
     ]
    }
   ],
   "source": [
    "img = Image('/home/nicole/eso325/mapas_IdNum/image.fits')\n",
    "img.info()"
   ]
  },
  {
   "cell_type": "code",
   "execution_count": 10,
   "id": "783a24a2",
   "metadata": {},
   "outputs": [],
   "source": [
    "x_px, y_px, Id = np.loadtxt('/home/nicole/eso325/voronoi_bin/Voronoi_Output.txt', unpack=True) "
   ]
  },
  {
   "cell_type": "code",
   "execution_count": 11,
   "id": "cc3e6760",
   "metadata": {},
   "outputs": [],
   "source": [
    "img[:]  = np.nan\n",
    "img.var = img.data.copy() \n",
    "img.var[:] = np.nan"
   ]
  },
  {
   "cell_type": "code",
   "execution_count": 12,
   "id": "ca2393cd",
   "metadata": {},
   "outputs": [],
   "source": [
    "for i in range(len(y_px)):                               \n",
    "    img.data.data[int(y_px[i])][int(x_px[i])] = Id[i]\n",
    "    img.var[int(y_px[i])][int(x_px[i])] = Id[i]"
   ]
  },
  {
   "cell_type": "code",
   "execution_count": 13,
   "id": "03639e85",
   "metadata": {},
   "outputs": [
    {
     "name": "stderr",
     "output_type": "stream",
     "text": [
      "[INFO] 75 x 90 Image (/home/nicole/eso325/mapas_IdNum//Vorbin_Tag.fits)\n",
      "[INFO] .data(75 x 90) (1e-20 erg / (Angstrom cm2 s)), .var(75 x 90)\n",
      "[INFO] center:(-38:10:35.41692285,13:43:33.29079452) size:(15.000\",18.000\") step:(0.200\",0.200\") rot:-0.0 deg frame:FK5\n"
     ]
    }
   ],
   "source": [
    "img.write(save_folder+'/Vorbin_Tag.fits') #Save the new grid\n",
    "img.info() #Display the information"
   ]
  }
 ],
 "metadata": {
  "kernelspec": {
   "display_name": "Python 3 (ipykernel)",
   "language": "python",
   "name": "python3"
  },
  "language_info": {
   "codemirror_mode": {
    "name": "ipython",
    "version": 3
   },
   "file_extension": ".py",
   "mimetype": "text/x-python",
   "name": "python",
   "nbconvert_exporter": "python",
   "pygments_lexer": "ipython3",
   "version": "3.8.10"
  }
 },
 "nbformat": 4,
 "nbformat_minor": 5
}
