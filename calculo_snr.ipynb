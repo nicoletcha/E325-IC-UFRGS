{
 "cells": [
  {
   "cell_type": "markdown",
   "id": "a379b03e",
   "metadata": {},
   "source": [
    "Author: Nicole Mazzitelli Narvaz\n",
    "\n",
    "Estimando razão sinal-ruído (o quanto de sinal possuo no meio do ruído)."
   ]
  },
  {
   "cell_type": "code",
   "execution_count": 30,
   "id": "8f11dc45",
   "metadata": {},
   "outputs": [],
   "source": [
    "import glob \n",
    "from os import path \n",
    "from time import perf_counter as clock"
   ]
  },
  {
   "cell_type": "code",
   "execution_count": 31,
   "id": "85e86985",
   "metadata": {},
   "outputs": [],
   "source": [
    "from astropy.io import fits\n",
    "from scipy import ndimage \n",
    "import numpy as np"
   ]
  },
  {
   "cell_type": "code",
   "execution_count": 32,
   "id": "133261ad",
   "metadata": {},
   "outputs": [],
   "source": [
    "import matplotlib.pyplot as plt"
   ]
  },
  {
   "cell_type": "code",
   "execution_count": 33,
   "id": "f8445b8c",
   "metadata": {},
   "outputs": [],
   "source": [
    "eso325_dir = '/home/nicole/eso325/espectros' #caminho da pasta"
   ]
  },
  {
   "cell_type": "code",
   "execution_count": 34,
   "id": "25a39411",
   "metadata": {},
   "outputs": [],
   "source": [
    "file = eso325_dir + '/36x43.fits'    #Nome do arquivo\n",
    "hdu = fits.open(file)                #Abertura do arquivo #This is the top-level FITS object. When a FITS file is opened, a HDUList object is returned.\n",
    "gal_lin = hdu[1].data                #Fluxo\n",
    "h1 = hdu[1].header                   #Header\n",
    "\n",
    "noise = np.sqrt(hdu[2].data) # tirando raiz da extensão STAT do arquivo FITS(variância de cada medida), calculando ruído como desvio padr"
   ]
  },
  {
   "cell_type": "code",
   "execution_count": 35,
   "id": "c1fed5ec",
   "metadata": {},
   "outputs": [],
   "source": [
    "lamRange1 = h1['CRVAL1'] + np.array([0., h1['CDELT1']*(h1['NAXIS1'] - 1)]) #define comprimento de onda inicial e final em um array.\n",
    "FWHM_gal = 2.71  #medida do quanto o telesc. consegue separar 2 linhas de absorção que estão próximas."
   ]
  },
  {
   "cell_type": "code",
   "execution_count": 36,
   "id": "1832043f",
   "metadata": {},
   "outputs": [],
   "source": [
    "wave = np.arange(lamRange1[0], lamRange1[1] + 1.25 , 1.25)"
   ]
  },
  {
   "cell_type": "code",
   "execution_count": 40,
   "id": "d95d5194",
   "metadata": {},
   "outputs": [],
   "source": [
    "mask = (wave>5200)&(wave<5320)"
   ]
  },
  {
   "cell_type": "code",
   "execution_count": 41,
   "id": "88e5de07",
   "metadata": {},
   "outputs": [],
   "source": [
    "gal_lin = gal_lin[mask] #novo fluxo mascarado (até 5600A)\n",
    "wave    = wave[mask]    #novo comprimento de onda mascarado (até 5600A)\n",
    "noise   = noise[mask]   #novo noise mascarado (até 5600A)"
   ]
  },
  {
   "cell_type": "code",
   "execution_count": 42,
   "id": "2d250471",
   "metadata": {},
   "outputs": [
    {
     "data": {
      "text/plain": [
       "<matplotlib.legend.Legend at 0x7fdb708e1250>"
      ]
     },
     "execution_count": 42,
     "metadata": {},
     "output_type": "execute_result"
    },
    {
     "data": {
      "image/png": "[encoded data removed]",
      "text/plain": [
       "<Figure size 1152x432 with 1 Axes>"
      ]
     },
     "metadata": {
      "needs_background": "light"
     },
     "output_type": "display_data"
    }
   ],
   "source": [
    "plt.figure(figsize=(16,6))\n",
    "plt.plot(wave, gal_lin, label=\"fluxo\")\n",
    "plt.plot(wave, noise, label=\"noise\")\n",
    "\n",
    "plt.legend()"
   ]
  },
  {
   "cell_type": "code",
   "execution_count": 43,
   "id": "74913ca3",
   "metadata": {},
   "outputs": [],
   "source": [
    "sinal = np.average(gal_lin) #media do sinal\n",
    "ruido = np.average(noise)  #media do noise\n",
    "snr = sinal/ruido #quanto de sinal tenho no meio do ruido"
   ]
  },
  {
   "cell_type": "code",
   "execution_count": 44,
   "id": "8666d316",
   "metadata": {},
   "outputs": [
    {
     "name": "stdout",
     "output_type": "stream",
     "text": [
      "2308.4617 40.567028 56.904877\n"
     ]
    }
   ],
   "source": [
    "print(sinal, ruido, snr)"
   ]
  },
  {
   "cell_type": "code",
   "execution_count": 45,
   "id": "ac815dff",
   "metadata": {
    "scrolled": true
   },
   "outputs": [
    {
     "name": "stderr",
     "output_type": "stream",
     "text": [
      "/tmp/ipykernel_4254/2104574567.py:24: DeprecationWarning: `np.int` is a deprecated alias for the builtin `int`. To silence this warning, use `int` by itself. Doing this will not modify any behavior and is safe. When replacing `np.int`, you may wish to use e.g. `np.int64` or `np.int32` to specify the precision. If you wish to review your current use, check the release note link for additional information.\n",
      "Deprecated in NumPy 1.20; for more details and guidance: https://numpy.org/devdocs/release/1.20.0-notes.html#deprecations\n",
      "  newrow = [np.int(y),np.int(x),sinal,ruido,snr]\n",
      "/tmp/ipykernel_4254/2104574567.py:26: DeprecationWarning: `np.int` is a deprecated alias for the builtin `int`. To silence this warning, use `int` by itself. Doing this will not modify any behavior and is safe. When replacing `np.int`, you may wish to use e.g. `np.int64` or `np.int32` to specify the precision. If you wish to review your current use, check the release note link for additional information.\n",
      "Deprecated in NumPy 1.20; for more details and guidance: https://numpy.org/devdocs/release/1.20.0-notes.html#deprecations\n",
      "  table = np.array([np.int(y),np.int(x),sinal,ruido,snr])\n"
     ]
    }
   ],
   "source": [
    "for y in range(75):\n",
    "    for x in range(90):\n",
    "        file = eso325_dir + '/%dx%d.fits'%(y,x)    #Nome do arquivo\n",
    "        hdu = fits.open(file)                #Abertura do arquivo #This is the top-level FITS object. When a FITS file is opened, a HDUList object is returned.\n",
    "        gal_lin = hdu[1].data                #Fluxo\n",
    "        h1 = hdu[1].header                   #Header\n",
    "\n",
    "        noise = np.sqrt(hdu[2].data) \n",
    "       \n",
    "        lamRange1 = h1['CRVAL1'] + np.array([0., h1['CDELT1']*(h1['NAXIS1'] - 1)]) #define comprimento de onda inicial e final em um array.\n",
    "        \n",
    "        wave = np.arange(lamRange1[0], lamRange1[1] + 1.25 , 1.25)\n",
    "        \n",
    "        mask = wave < 5600\n",
    "        \n",
    "        gal_lin = gal_lin[mask] #novo fluxo mascarado (até 5600A)\n",
    "        wave    = wave[mask]    #novo comprimento de onda mascarado (até 5600A)\n",
    "        noise   = noise[mask]   #novo noise mascarado (até 5600A)\n",
    "        \n",
    "        sinal = np.average(gal_lin) #media do sinal\n",
    "        ruido = np.average(noise)   #media do noise\n",
    "        snr = sinal/ruido           #quanto de sinal tenho no meio do ruido\n",
    "        \n",
    "        newrow = [np.int(y),np.int(x),sinal,ruido,snr]\n",
    "        if y == 0 and x == 0:\n",
    "            table = np.array([np.int(y),np.int(x),sinal,ruido,snr])\n",
    "        else:\n",
    "            table = np.vstack([table,newrow]) #adiciona uma linha na vertical abaixo da linha acima."
   ]
  },
  {
   "cell_type": "code",
   "execution_count": 46,
   "id": "83216e21",
   "metadata": {},
   "outputs": [],
   "source": [
    "np.savetxt('SNR4750_5600A.txt',table,header= 'y x sinal ruido snr', fmt='%i %i %10e %10e %10e',delimiter=' ') #Salva a tabela"
   ]
  },
  {
   "cell_type": "markdown",
   "id": "9659a7cf",
   "metadata": {},
   "source": [
    "# OU outra forma de fazer com while\n",
    "\n",
    "y=0\n",
    "while y <5:\n",
    "  x=0\n",
    "  while x <9:\n",
    "    print(y,x)\n",
    "    x = x+1\n",
    "  y=y+1\n",
    "\n",
    "o que faltou foi fazer o x=0 dentro do loop em y. Sem isso, ele entra no loop while para y=0, varre todas os valores de x e imprime eles, vai para y=1, só que não entra no loop de x, pois o x não foi zerado (ele fica no último valor, que nesse caso acima era 8 ). Aí ele até varre todos os outros y's, só que não imprime, pois o print está dentro do loop em x."
   ]
  }
 ],
 "metadata": {
  "kernelspec": {
   "display_name": "Python 3 (ipykernel)",
   "language": "python",
   "name": "python3"
  },
  "language_info": {
   "codemirror_mode": {
    "name": "ipython",
    "version": 3
   },
   "file_extension": ".py",
   "mimetype": "text/x-python",
   "name": "python",
   "nbconvert_exporter": "python",
   "pygments_lexer": "ipython3",
   "version": "3.8.10"
  }
 },
 "nbformat": 4,
 "nbformat_minor": 5
}
